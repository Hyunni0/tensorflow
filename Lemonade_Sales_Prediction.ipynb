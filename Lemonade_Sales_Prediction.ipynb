{
  "nbformat": 4,
  "nbformat_minor": 0,
  "metadata": {
    "colab": {
      "provenance": [],
      "authorship_tag": "ABX9TyPPrDP0PZDmBVJzUNYyT22y",
      "include_colab_link": true
    },
    "kernelspec": {
      "name": "python3",
      "display_name": "Python 3"
    },
    "language_info": {
      "name": "python"
    }
  },
  "cells": [
    {
      "cell_type": "markdown",
      "metadata": {
        "id": "view-in-github",
        "colab_type": "text"
      },
      "source": [
        "<a href=\"https://colab.research.google.com/github/Hyunni0/tensorflow/blob/main/Lemonade_Sales_Prediction.ipynb\" target=\"_parent\"><img src=\"https://colab.research.google.com/assets/colab-badge.svg\" alt=\"Open In Colab\"/></a>"
      ]
    },
    {
      "cell_type": "code",
      "execution_count": null,
      "metadata": {
        "colab": {
          "base_uri": "https://localhost:8080/"
        },
        "id": "8X4fn4HrFmIC",
        "outputId": "69e2795c-52e1-4db5-cbab-69cb5b83987c"
      },
      "outputs": [
        {
          "output_type": "stream",
          "name": "stdout",
          "text": [
            "(6, 2)\n",
            "(6, 1) (6, 1)\n",
            "Epoch 1/10\n",
            "1/1 [==============================] - 0s 11ms/step - loss: 902.8533\n",
            "Epoch 2/10\n",
            "1/1 [==============================] - 0s 9ms/step - loss: 901.4478\n",
            "Epoch 3/10\n",
            "1/1 [==============================] - 0s 8ms/step - loss: 900.0433\n",
            "Epoch 4/10\n",
            "1/1 [==============================] - 0s 12ms/step - loss: 898.6400\n",
            "Epoch 5/10\n",
            "1/1 [==============================] - 0s 11ms/step - loss: 897.2378\n",
            "Epoch 6/10\n",
            "1/1 [==============================] - 0s 9ms/step - loss: 895.8367\n",
            "Epoch 7/10\n",
            "1/1 [==============================] - 0s 8ms/step - loss: 894.4368\n",
            "Epoch 8/10\n",
            "1/1 [==============================] - 0s 8ms/step - loss: 893.0378\n",
            "Epoch 9/10\n",
            "1/1 [==============================] - 0s 7ms/step - loss: 891.6401\n",
            "Epoch 10/10\n",
            "1/1 [==============================] - 0s 12ms/step - loss: 890.2434\n",
            "1/1 [==============================] - 0s 94ms/step\n",
            "[[13.692986]\n",
            " [14.326939]\n",
            " [14.960892]\n",
            " [15.594845]\n",
            " [16.228798]\n",
            " [16.862751]]\n",
            "1/1 [==============================] - 0s 42ms/step\n",
            "[[10.52322]]\n"
          ]
        }
      ],
      "source": [
        "import tensorflow as tf\n",
        "import pandas as pd\n",
        "\n",
        "#데이터 준비\n",
        "filepath = '/content/lemonade.csv'\n",
        "lemonade = pd.read_csv(filepath)\n",
        "lemonade.head()\n",
        "\n",
        "#독립변수, 종속변수\n",
        "independent = lemonade[['temp']]\n",
        "dependent = lemonade[['sales']]\n",
        "print(lemonade.shape)\n",
        "print(independent.shape, dependent.shape)\n",
        "\n",
        "#모델 생성\n",
        "X = tf.keras.layers.Input(shape=[1])\n",
        "Y = tf.keras.layers.Dense(1)(X)\n",
        "model = tf.keras.models.Model(X,Y)\n",
        "model.compile(loss='mse')\n",
        "\n",
        "#모델 학습\n",
        "model.fit(independent, dependent, epochs=1000, verbose = 0)\n",
        "model.fit(independent, dependent, epochs = 10)\n",
        "\n",
        "#모델 예측(이용)\n",
        "print(model.predict(independent))\n",
        "print(model.predict([[15]]))"
      ]
    }
  ]
}