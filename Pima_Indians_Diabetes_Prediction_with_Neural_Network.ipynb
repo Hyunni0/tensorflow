{
  "nbformat": 4,
  "nbformat_minor": 0,
  "metadata": {
    "colab": {
      "provenance": [],
      "authorship_tag": "ABX9TyPfNeHrBGNjiDUGy6I5GBJd",
      "include_colab_link": true
    },
    "kernelspec": {
      "name": "python3",
      "display_name": "Python 3"
    },
    "language_info": {
      "name": "python"
    }
  },
  "cells": [
    {
      "cell_type": "markdown",
      "metadata": {
        "id": "view-in-github",
        "colab_type": "text"
      },
      "source": [
        "<a href=\"https://colab.research.google.com/github/Hyunni0/tensorflow/blob/main/Pima_Indians_Diabetes_Prediction_with_Neural_Network.ipynb\" target=\"_parent\"><img src=\"https://colab.research.google.com/assets/colab-badge.svg\" alt=\"Open In Colab\"/></a>"
      ]
    },
    {
      "cell_type": "code",
      "execution_count": null,
      "metadata": {
        "colab": {
          "base_uri": "https://localhost:8080/"
        },
        "id": "8Ih9vEB49enb",
        "outputId": "f9d9145f-2b92-494e-e306-18fe7c5c478f"
      },
      "outputs": [
        {
          "output_type": "stream",
          "name": "stdout",
          "text": [
            "Epoch 1/5\n",
            "24/24 [==============================] - 0s 2ms/step - loss: 0.5038 - accuracy: 0.7396\n",
            "Epoch 2/5\n",
            "24/24 [==============================] - 0s 2ms/step - loss: 0.5093 - accuracy: 0.7331\n",
            "Epoch 3/5\n",
            "24/24 [==============================] - 0s 3ms/step - loss: 0.5129 - accuracy: 0.7344\n",
            "Epoch 4/5\n",
            "24/24 [==============================] - 0s 2ms/step - loss: 0.5226 - accuracy: 0.7357\n",
            "Epoch 5/5\n",
            "24/24 [==============================] - 0s 2ms/step - loss: 0.5084 - accuracy: 0.7370\n",
            "1/1 [==============================] - 0s 95ms/step\n",
            "[[0.20739205]\n",
            " [0.28780207]\n",
            " [0.5612465 ]\n",
            " [0.5612465 ]\n",
            " [0.40331677]]\n",
            "   diabetes\n",
            "5         0\n",
            "6         1\n",
            "7         0\n",
            "8         1\n",
            "9         1\n"
          ]
        }
      ],
      "source": [
        "import pandas as pd\n",
        "from tensorflow.keras.models import Sequential\n",
        "from tensorflow.keras.layers import Dense\n",
        "\n",
        "# 1, 데이터 준비\n",
        "df = pd.read_csv('/content/sample_data/pima-indians-diabetes3.csv')\n",
        "\n",
        "# 세부 정보 X, 당뇨병 여부 Y\n",
        "X = df[['pregnant', 'plasma', 'pressure', 'thickness',\n",
        "        'insulin', 'bmi', 'pedigree', 'age']]\n",
        "y = df[['diabetes']]\n",
        "\n",
        "# 2. 모델 생성\n",
        "model = Sequential()\n",
        "model.add(Dense(12, input_dim = 8, activation = 'relu'))\n",
        "model.add(Dense(8, activation = 'relu'))\n",
        "model.add(Dense(4, activation = 'relu'))\n",
        "model.add(Dense(1, activation = 'sigmoid'))\n",
        "\n",
        "# 3. 학습\n",
        "model.compile(loss='binary_crossentropy', optimizer='adam', metrics=['accuracy'])\n",
        "model.fit(X, y, epochs = 300, verbose = 0)\n",
        "model.fit(X, y, epochs = 5)\n",
        "\n",
        "# 4. 예측\n",
        "print(model.predict(X[5:10]))\n",
        "print(y[5:10])\n",
        "\n"
      ]
    }
  ]
}